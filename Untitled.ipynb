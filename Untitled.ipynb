{
 "cells": [
  {
   "cell_type": "code",
   "execution_count": 1,
   "metadata": {},
   "outputs": [],
   "source": [
    "from camera_calibrate import StereoCalibration\n",
    "from glob import glob"
   ]
  },
  {
   "cell_type": "code",
   "execution_count": 2,
   "metadata": {},
   "outputs": [],
   "source": [
    "im_l = sorted(glob('/home/stepan/repositories/stereo_calibration/20200923/left*.jpg'))[::3]\n",
    "im_r = sorted(glob('/home/stepan/repositories/stereo_calibration/20200923/right*.jpg'))[::3]"
   ]
  },
  {
   "cell_type": "code",
   "execution_count": 3,
   "metadata": {},
   "outputs": [
    {
     "name": "stdout",
     "output_type": "stream",
     "text": [
      "('Intrinsic_mtx_1', array([[  2.34694837e+03,   0.00000000e+00,   1.17485473e+03],\n",
      "       [  0.00000000e+00,   2.35234114e+03,   1.07139383e+03],\n",
      "       [  0.00000000e+00,   0.00000000e+00,   1.00000000e+00]]))\n",
      "('dist_1', array([[-0.07453525,  0.15126246,  0.00171989, -0.00224919, -0.0861027 ]]))\n",
      "('Intrinsic_mtx_2', array([[  2.34706744e+03,   0.00000000e+00,   1.18452099e+03],\n",
      "       [  0.00000000e+00,   2.35299521e+03,   1.01159783e+03],\n",
      "       [  0.00000000e+00,   0.00000000e+00,   1.00000000e+00]]))\n",
      "('dist_2', array([[-0.06560262,  0.10867737,  0.00111196, -0.00188425, -0.08053946]]))\n",
      "('R', array([[ 0.99988546,  0.00180874,  0.01502616],\n",
      "       [-0.00177939,  0.99999648, -0.00196663],\n",
      "       [-0.01502966,  0.00193966,  0.99988517]]))\n",
      "('T', array([[-4.32187501],\n",
      "       [-0.0141523 ],\n",
      "       [ 0.05458572]]))\n",
      "('E', array([[  3.09833552e-04,  -5.46129831e-02,  -1.40433264e-02],\n",
      "       [ -1.03768379e-02,   8.48171613e-03,   4.32219893e+00],\n",
      "       [  2.18409807e-02,  -4.32183422e+00,   8.71216839e-03]]))\n",
      "('F', array([[  5.51232506e-10,  -9.69405556e-08,   4.45757941e-05],\n",
      "       [ -1.84151784e-08,   1.50175077e-08,   1.80074803e-02],\n",
      "       [  1.09177748e-04,  -1.79057844e-02,   1.00000000e+00]]))\n",
      "\n"
     ]
    }
   ],
   "source": [
    "cal = StereoCalibration(im_l, im_r)"
   ]
  },
  {
   "cell_type": "code",
   "execution_count": 4,
   "metadata": {},
   "outputs": [
    {
     "data": {
      "text/plain": [
       "92"
      ]
     },
     "execution_count": 4,
     "metadata": {},
     "output_type": "execute_result"
    }
   ],
   "source": [
    "len(im_l)"
   ]
  },
  {
   "cell_type": "code",
   "execution_count": null,
   "metadata": {},
   "outputs": [],
   "source": []
  }
 ],
 "metadata": {
  "kernelspec": {
   "display_name": "Python 3",
   "language": "python",
   "name": "python3"
  },
  "language_info": {
   "codemirror_mode": {
    "name": "ipython",
    "version": 3
   },
   "file_extension": ".py",
   "mimetype": "text/x-python",
   "name": "python",
   "nbconvert_exporter": "python",
   "pygments_lexer": "ipython3",
   "version": "3.8.5"
  }
 },
 "nbformat": 4,
 "nbformat_minor": 4
}
