{
 "cells": [
  {
   "cell_type": "code",
   "execution_count": 1,
   "metadata": {},
   "outputs": [],
   "source": [
    "from camera_calibrate import StereoCalibration\n",
    "from glob import glob"
   ]
  },
  {
   "cell_type": "code",
   "execution_count": 2,
   "metadata": {},
   "outputs": [],
   "source": [
    "im_l = sorted(glob('/home/stepan/repositories/stereo_calibration/20200923/left*.jpg'))[::3]\n",
    "im_r = sorted(glob('/home/stepan/repositories/stereo_calibration/20200923/right*.jpg'))[::3]"
   ]
  },
  {
   "cell_type": "code",
   "execution_count": 3,
   "metadata": {},
   "outputs": [
    {
     "name": "stdout",
     "output_type": "stream",
     "text": [
      "len(self.objpoints): 32\n",
      "len(self.imgpoints_l): 32\n",
      "self.objpoints[0].shape: (28, 3)\n",
      "len(self.imgpoints_l): (28, 1, 2)\n",
      "Intrinsic_mtx_1 [[2.34694837e+03 0.00000000e+00 1.17485473e+03]\n",
      " [0.00000000e+00 2.35234114e+03 1.07139384e+03]\n",
      " [0.00000000e+00 0.00000000e+00 1.00000000e+00]]\n",
      "dist_1 [[-0.07453525  0.15126247  0.00171989 -0.00224919 -0.08610272]]\n",
      "Intrinsic_mtx_2 [[2.34706743e+03 0.00000000e+00 1.18452102e+03]\n",
      " [0.00000000e+00 2.35299521e+03 1.01159782e+03]\n",
      " [0.00000000e+00 0.00000000e+00 1.00000000e+00]]\n",
      "dist_2 [[-0.06560255  0.10867683  0.00111196 -0.00188425 -0.08053832]]\n",
      "R [[ 0.99988547  0.00180874  0.01502614]\n",
      " [-0.00177939  0.99999648 -0.00196662]\n",
      " [-0.01502965  0.00193966  0.99988517]]\n",
      "T [[-4.32187501]\n",
      " [-0.0141523 ]\n",
      " [ 0.05458571]]\n",
      "E [[ 3.09833379e-04 -5.46129641e-02 -1.40433268e-02]\n",
      " [-1.03768053e-02  8.48169743e-03  4.32219893e+00]\n",
      " [ 2.18409830e-02 -4.32183422e+00  8.71214947e-03]]\n",
      "F [[ 5.51232164e-10 -9.69405157e-08  4.45757541e-05]\n",
      " [-1.84151194e-08  1.50174736e-08  1.80074791e-02]\n",
      " [ 1.09177692e-04 -1.79057832e-02  1.00000000e+00]]\n",
      "\n"
     ]
    }
   ],
   "source": [
    "cal = StereoCalibration(im_l, im_r)"
   ]
  },
  {
   "cell_type": "code",
   "execution_count": 4,
   "metadata": {},
   "outputs": [
    {
     "data": {
      "text/plain": [
       "92"
      ]
     },
     "execution_count": 4,
     "metadata": {},
     "output_type": "execute_result"
    }
   ],
   "source": [
    "len(im_l)"
   ]
  },
  {
   "cell_type": "code",
   "execution_count": null,
   "metadata": {},
   "outputs": [],
   "source": []
  }
 ],
 "metadata": {
  "kernelspec": {
   "display_name": "Python 3",
   "language": "python",
   "name": "python3"
  },
  "language_info": {
   "codemirror_mode": {
    "name": "ipython",
    "version": 3
   },
   "file_extension": ".py",
   "mimetype": "text/x-python",
   "name": "python",
   "nbconvert_exporter": "python",
   "pygments_lexer": "ipython3",
   "version": "3.8.5"
  }
 },
 "nbformat": 4,
 "nbformat_minor": 4
}
